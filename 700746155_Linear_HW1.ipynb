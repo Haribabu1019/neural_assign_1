{
 "cells": [
  {
   "cell_type": "code",
   "execution_count": null,
   "id": "3bc2a482",
   "metadata": {},
   "outputs": [],
   "source": [
    "import pandas as pd\n",
    "salariesData = pd.read_csv('Salary_Data.csv')\n",
    "A = salariesData.iloc[:, :-1].values\n",
    "B = salariesData.iloc[:, 1].values\n",
    "from sklearn.model_selection import train_test_split\n",
    "A_train, A_test, B_train, B_test = train_test_split(A, B, test_size = 1/3, random_state = 0)\n",
    "from sklearn.linear_model import LinearRegression\n",
    "regressor = LinearRegression()\n",
    "regressor.fit(A_train, B_train)\n",
    "pred = clf.predict(A_test)\n",
    "from sklearn.metrics import mean_squared_error\n",
    "mse2=mean_squared_error(A_test,pred)\n",
    "print(mse2)\n",
    "mse1 = mean_squared_error(B_test, pred)\n",
    "print(mse1)\n",
    "import matplotlib.pyplot as plt\n",
    "plt.scatter(A_train, B_train, colour = 'Green')\n",
    "plt.scatter(A_test, B_test, colour = 'Orange')\n",
    "plt.title('Salary Data')\n",
    "plt.xlabel('Experience (Years)')\n",
    "plt.ylabel('Salary')\n",
    "plt.show()"
   ]
  }
 ],
 "metadata": {
  "kernelspec": {
   "display_name": "Python 3 (ipykernel)",
   "language": "python",
   "name": "python3"
  },
  "language_info": {
   "codemirror_mode": {
    "name": "ipython",
    "version": 3
   },
   "file_extension": ".py",
   "mimetype": "text/x-python",
   "name": "python",
   "nbconvert_exporter": "python",
   "pygments_lexer": "ipython3",
   "version": "3.10.9"
  }
 },
 "nbformat": 4,
 "nbformat_minor": 5
}
